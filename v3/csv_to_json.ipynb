{
 "cells": [
  {
   "cell_type": "code",
   "execution_count": 3,
   "metadata": {},
   "outputs": [],
   "source": [
    "import csv\n",
    "import json\n",
    "\n",
    "def csv_to_json(csv_file, json_file):\n",
    "    # Diccionario para almacenar las entradas\n",
    "    result = {}\n",
    "    \n",
    "    with open(csv_file, 'r', encoding='utf-8') as file:\n",
    "        csv_reader = csv.DictReader(file)\n",
    "        \n",
    "        for row in csv_reader:\n",
    "            entrada = row['Entrada']\n",
    "            \n",
    "            # Si la entrada no existe en el resultado, la creamos\n",
    "            if entrada not in result:\n",
    "                result[entrada] = {\n",
    "                    \"entrada\": {\n",
    "                        \"subentrada\": {\n",
    "                            \"tipo\": row['Tipo'],\n",
    "                            \"acepciones\": []\n",
    "                        }\n",
    "                    }\n",
    "                }\n",
    "            \n",
    "            # Creamos la acepción\n",
    "            acepcion = {\n",
    "                \"numero\": int(row['Acepción']) if row['Acepción'].strip() else None,  # Maneja valores vacíos\n",
    "                \"uuid\": \"\",  # Vacío por ahora, se puede generar si es necesario\n",
    "                \"marcas\": row['Marcas'],\n",
    "                \"definiciones\": row['Definiciones'],\n",
    "                \"clase gramatical\": row['Clase gramatical'],\n",
    "                \"primera división\": row['Primera división'],\n",
    "                \"nodo básico\": row['Nodo básico'],\n",
    "                \"nodo LexiMus\": row['Nodo LexiMus'],\n",
    "                \"nodo intermedio\": row['Nodo intermedio'],\n",
    "                \"último nodo\": row['Último nodo'],\n",
    "                \"última referencia atestiguada/Primera referencia lexicográfica académica\": row['Última referencia atestiguada/Primera referencia lexicográfica académica']\n",
    "            }\n",
    "            \n",
    "            # Añadimos la acepción al array de acepciones\n",
    "            result[entrada]['entrada']['subentrada']['acepciones'].append(acepcion)\n",
    "    \n",
    "    # Guardamos el resultado en un archivo JSON\n",
    "    with open(json_file, 'w', encoding='utf-8') as f:\n",
    "        json.dump(result, f, ensure_ascii=False, indent=4)\n",
    "\n",
    "# Ejecutar la conversión\n",
    "csv_to_json('../copia_DLEH.csv', '../col_DLEH.json')"
   ]
  }
 ],
 "metadata": {
  "kernelspec": {
   "display_name": "leximus",
   "language": "python",
   "name": "python3"
  },
  "language_info": {
   "codemirror_mode": {
    "name": "ipython",
    "version": 3
   },
   "file_extension": ".py",
   "mimetype": "text/x-python",
   "name": "python",
   "nbconvert_exporter": "python",
   "pygments_lexer": "ipython3",
   "version": "3.11.11"
  }
 },
 "nbformat": 4,
 "nbformat_minor": 2
}
