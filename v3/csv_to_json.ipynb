{
 "cells": [
  {
   "cell_type": "code",
   "execution_count": 2,
   "metadata": {},
   "outputs": [
    {
     "ename": "ValueError",
     "evalue": "invalid literal for int() with base 10: ''",
     "output_type": "error",
     "traceback": [
      "\u001b[0;31m---------------------------------------------------------------------------\u001b[0m",
      "\u001b[0;31mValueError\u001b[0m                                Traceback (most recent call last)",
      "Cell \u001b[0;32mIn[2], line 48\u001b[0m\n\u001b[1;32m     45\u001b[0m         json\u001b[38;5;241m.\u001b[39mdump(result, f, ensure_ascii\u001b[38;5;241m=\u001b[39m\u001b[38;5;28;01mFalse\u001b[39;00m, indent\u001b[38;5;241m=\u001b[39m\u001b[38;5;241m4\u001b[39m)\n\u001b[1;32m     47\u001b[0m \u001b[38;5;66;03m# Ejecutar la conversión\u001b[39;00m\n\u001b[0;32m---> 48\u001b[0m \u001b[43mcsv_to_json\u001b[49m\u001b[43m(\u001b[49m\u001b[38;5;124;43m'\u001b[39;49m\u001b[38;5;124;43m../copia_DLEH.csv\u001b[39;49m\u001b[38;5;124;43m'\u001b[39;49m\u001b[43m,\u001b[49m\u001b[43m \u001b[49m\u001b[38;5;124;43m'\u001b[39;49m\u001b[38;5;124;43m../col_DLEH.json\u001b[39;49m\u001b[38;5;124;43m'\u001b[39;49m\u001b[43m)\u001b[49m\n",
      "Cell \u001b[0;32mIn[2], line 27\u001b[0m, in \u001b[0;36mcsv_to_json\u001b[0;34m(csv_file, json_file)\u001b[0m\n\u001b[1;32m     16\u001b[0m     result[entrada] \u001b[38;5;241m=\u001b[39m {\n\u001b[1;32m     17\u001b[0m         \u001b[38;5;124m\"\u001b[39m\u001b[38;5;124mentrada\u001b[39m\u001b[38;5;124m\"\u001b[39m: {\n\u001b[1;32m     18\u001b[0m             \u001b[38;5;124m\"\u001b[39m\u001b[38;5;124msubentrada\u001b[39m\u001b[38;5;124m\"\u001b[39m: {\n\u001b[0;32m   (...)\u001b[0m\n\u001b[1;32m     22\u001b[0m         }\n\u001b[1;32m     23\u001b[0m     }\n\u001b[1;32m     25\u001b[0m \u001b[38;5;66;03m# Creamos la acepción\u001b[39;00m\n\u001b[1;32m     26\u001b[0m acepcion \u001b[38;5;241m=\u001b[39m {\n\u001b[0;32m---> 27\u001b[0m     \u001b[38;5;124m\"\u001b[39m\u001b[38;5;124mnumero\u001b[39m\u001b[38;5;124m\"\u001b[39m: \u001b[38;5;28;43mint\u001b[39;49m\u001b[43m(\u001b[49m\u001b[43mrow\u001b[49m\u001b[43m[\u001b[49m\u001b[38;5;124;43m'\u001b[39;49m\u001b[38;5;124;43mAcepción\u001b[39;49m\u001b[38;5;124;43m'\u001b[39;49m\u001b[43m]\u001b[49m\u001b[43m)\u001b[49m,\n\u001b[1;32m     28\u001b[0m     \u001b[38;5;124m\"\u001b[39m\u001b[38;5;124muuid\u001b[39m\u001b[38;5;124m\"\u001b[39m: \u001b[38;5;124m\"\u001b[39m\u001b[38;5;124m\"\u001b[39m,  \u001b[38;5;66;03m# Vacío por ahora, se puede generar si es necesario\u001b[39;00m\n\u001b[1;32m     29\u001b[0m     \u001b[38;5;124m\"\u001b[39m\u001b[38;5;124mmarcas\u001b[39m\u001b[38;5;124m\"\u001b[39m: row[\u001b[38;5;124m'\u001b[39m\u001b[38;5;124mMarcas\u001b[39m\u001b[38;5;124m'\u001b[39m],\n\u001b[1;32m     30\u001b[0m     \u001b[38;5;124m\"\u001b[39m\u001b[38;5;124mdefiniciones\u001b[39m\u001b[38;5;124m\"\u001b[39m: row[\u001b[38;5;124m'\u001b[39m\u001b[38;5;124mDefiniciones\u001b[39m\u001b[38;5;124m'\u001b[39m],\n\u001b[1;32m     31\u001b[0m     \u001b[38;5;124m\"\u001b[39m\u001b[38;5;124mclase gramatical\u001b[39m\u001b[38;5;124m\"\u001b[39m: row[\u001b[38;5;124m'\u001b[39m\u001b[38;5;124mClase gramatical\u001b[39m\u001b[38;5;124m'\u001b[39m],\n\u001b[1;32m     32\u001b[0m     \u001b[38;5;124m\"\u001b[39m\u001b[38;5;124mprimera división\u001b[39m\u001b[38;5;124m\"\u001b[39m: row[\u001b[38;5;124m'\u001b[39m\u001b[38;5;124mPrimera división\u001b[39m\u001b[38;5;124m'\u001b[39m],\n\u001b[1;32m     33\u001b[0m     \u001b[38;5;124m\"\u001b[39m\u001b[38;5;124mnodo básico\u001b[39m\u001b[38;5;124m\"\u001b[39m: row[\u001b[38;5;124m'\u001b[39m\u001b[38;5;124mNodo básico\u001b[39m\u001b[38;5;124m'\u001b[39m],\n\u001b[1;32m     34\u001b[0m     \u001b[38;5;124m\"\u001b[39m\u001b[38;5;124mnodo LexiMus\u001b[39m\u001b[38;5;124m\"\u001b[39m: row[\u001b[38;5;124m'\u001b[39m\u001b[38;5;124mNodo LexiMus\u001b[39m\u001b[38;5;124m'\u001b[39m],\n\u001b[1;32m     35\u001b[0m     \u001b[38;5;124m\"\u001b[39m\u001b[38;5;124mnodo intermedio\u001b[39m\u001b[38;5;124m\"\u001b[39m: row[\u001b[38;5;124m'\u001b[39m\u001b[38;5;124mNodo intermedio\u001b[39m\u001b[38;5;124m'\u001b[39m],\n\u001b[1;32m     36\u001b[0m     \u001b[38;5;124m\"\u001b[39m\u001b[38;5;124múltimo nodo\u001b[39m\u001b[38;5;124m\"\u001b[39m: row[\u001b[38;5;124m'\u001b[39m\u001b[38;5;124mÚltimo nodo\u001b[39m\u001b[38;5;124m'\u001b[39m],\n\u001b[1;32m     37\u001b[0m     \u001b[38;5;124m\"\u001b[39m\u001b[38;5;124múltima referencia atestiguada/Primera referencia lexicográfica académica\u001b[39m\u001b[38;5;124m\"\u001b[39m: row[\u001b[38;5;124m'\u001b[39m\u001b[38;5;124mÚltima referencia atestiguada/Primera referencia lexicográfica académica\u001b[39m\u001b[38;5;124m'\u001b[39m]\n\u001b[1;32m     38\u001b[0m }\n\u001b[1;32m     40\u001b[0m \u001b[38;5;66;03m# Añadimos la acepción al array de acepciones\u001b[39;00m\n\u001b[1;32m     41\u001b[0m result[entrada][\u001b[38;5;124m'\u001b[39m\u001b[38;5;124mentrada\u001b[39m\u001b[38;5;124m'\u001b[39m][\u001b[38;5;124m'\u001b[39m\u001b[38;5;124msubentrada\u001b[39m\u001b[38;5;124m'\u001b[39m][\u001b[38;5;124m'\u001b[39m\u001b[38;5;124macepciones\u001b[39m\u001b[38;5;124m'\u001b[39m]\u001b[38;5;241m.\u001b[39mappend(acepcion)\n",
      "\u001b[0;31mValueError\u001b[0m: invalid literal for int() with base 10: ''"
     ]
    }
   ],
   "source": [
    "import csv\n",
    "import json\n",
    "\n",
    "def csv_to_json(csv_file, json_file):\n",
    "    # Diccionario para almacenar las entradas\n",
    "    result = {}\n",
    "    \n",
    "    with open(csv_file, 'r', encoding='utf-8') as file:\n",
    "        csv_reader = csv.DictReader(file)\n",
    "        \n",
    "        for row in csv_reader:\n",
    "            entrada = row['Entrada']\n",
    "            \n",
    "            # Si la entrada no existe en el resultado, la creamos\n",
    "            if entrada not in result:\n",
    "                result[entrada] = {\n",
    "                    \"entrada\": {\n",
    "                        \"subentrada\": {\n",
    "                            \"tipo\": row['Tipo'],\n",
    "                            \"acepciones\": []\n",
    "                        }\n",
    "                    }\n",
    "                }\n",
    "            \n",
    "            # Creamos la acepción\n",
    "            acepcion = {\n",
    "                \"numero\": int(row['Acepción']) if row['Acepción'].strip() else None,  # Maneja valores vacíos\n",
    "                \"uuid\": \"\",  # Vacío por ahora, se puede generar si es necesario\n",
    "                \"marcas\": row['Marcas'],\n",
    "                \"definiciones\": row['Definiciones'],\n",
    "                \"clase gramatical\": row['Clase gramatical'],\n",
    "                \"primera división\": row['Primera división'],\n",
    "                \"nodo básico\": row['Nodo básico'],\n",
    "                \"nodo LexiMus\": row['Nodo LexiMus'],\n",
    "                \"nodo intermedio\": row['Nodo intermedio'],\n",
    "                \"último nodo\": row['Último nodo'],\n",
    "                \"última referencia atestiguada/Primera referencia lexicográfica académica\": row['Última referencia atestiguada/Primera referencia lexicográfica académica']\n",
    "            }\n",
    "            \n",
    "            # Añadimos la acepción al array de acepciones\n",
    "            result[entrada]['entrada']['subentrada']['acepciones'].append(acepcion)\n",
    "    \n",
    "    # Guardamos el resultado en un archivo JSON\n",
    "    with open(json_file, 'w', encoding='utf-8') as f:\n",
    "        json.dump(result, f, ensure_ascii=False, indent=4)\n",
    "\n",
    "# Ejecutar la conversión\n",
    "csv_to_json('../copia_DLEH.csv', '../col_DLEH.json')"
   ]
  }
 ],
 "metadata": {
  "kernelspec": {
   "display_name": "leximus",
   "language": "python",
   "name": "python3"
  },
  "language_info": {
   "codemirror_mode": {
    "name": "ipython",
    "version": 3
   },
   "file_extension": ".py",
   "mimetype": "text/x-python",
   "name": "python",
   "nbconvert_exporter": "python",
   "pygments_lexer": "ipython3",
   "version": "3.11.11"
  }
 },
 "nbformat": 4,
 "nbformat_minor": 2
}
